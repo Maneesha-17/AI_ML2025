{
  "nbformat": 4,
  "nbformat_minor": 0,
  "metadata": {
    "colab": {
      "provenance": [],
      "authorship_tag": "ABX9TyOg5lSS/Ci8+z9Gs42hXAOt",
      "include_colab_link": true
    },
    "kernelspec": {
      "name": "python3",
      "display_name": "Python 3"
    },
    "language_info": {
      "name": "python"
    }
  },
  "cells": [
    {
      "cell_type": "markdown",
      "metadata": {
        "id": "view-in-github",
        "colab_type": "text"
      },
      "source": [
        "<a href=\"https://colab.research.google.com/github/Maneesha-17/AI_ML2025/blob/main/python_basics.ipynb\" target=\"_parent\"><img src=\"https://colab.research.google.com/assets/colab-badge.svg\" alt=\"Open In Colab\"/></a>"
      ]
    },
    {
      "cell_type": "markdown",
      "source": [
        "# **Basics**"
      ],
      "metadata": {
        "id": "N1sLjgR63tlm"
      }
    },
    {
      "cell_type": "code",
      "source": [
        "# Case Sensitive\n",
        "name = 'Maneesha Veluru'\n",
        "Name2 = 'Maneesha'\n",
        "print(name)\n",
        "print(Name2)\n",
        "print(Name2)\n",
        "print(name)"
      ],
      "metadata": {
        "colab": {
          "base_uri": "https://localhost:8080/"
        },
        "id": "MM1BZQk9333C",
        "outputId": "5bd9fd88-40f5-4802-ec95-105c7866a7d5"
      },
      "execution_count": 1,
      "outputs": [
        {
          "output_type": "stream",
          "name": "stdout",
          "text": [
            "Maneesha Veluru\n",
            "Maneesha\n",
            "Maneesha\n",
            "Maneesha Veluru\n"
          ]
        }
      ]
    },
    {
      "cell_type": "code",
      "source": [
        "statement1 = 'I have started learning Flask which is a Python\\\n",
        "  based Web Framework and created a small Web App on \"Puppy Adoption Site\". \\\n",
        "  Attached a glimpse of it which covers Add Pup, Lists of Pup and Delete Pup name. \\\n",
        "  I have used My Sql as a database to load the details.'\n",
        "\n",
        "print(statement1)"
      ],
      "metadata": {
        "colab": {
          "base_uri": "https://localhost:8080/"
        },
        "id": "0AxetFtI4D2Y",
        "outputId": "5433c22e-0b18-43e1-ed8b-e400cc836a16"
      },
      "execution_count": 2,
      "outputs": [
        {
          "output_type": "stream",
          "name": "stdout",
          "text": [
            "I have started learning Flask which is a Python  based Web Framework and created a small Web App on \"Puppy Adoption Site\".   Attached a glimpse of it which covers Add Pup, Lists of Pup and Delete Pup name.   I have used My Sql as a database to load the details.\n"
          ]
        }
      ]
    },
    {
      "cell_type": "code",
      "source": [
        "# Indentation in python is used to define tthe structre and hierarchy of the code\n",
        "\n",
        "age = 32\n",
        "if age > 30:\n",
        "    print(age)"
      ],
      "metadata": {
        "colab": {
          "base_uri": "https://localhost:8080/"
        },
        "id": "CHssz8pz4PcL",
        "outputId": "e3c58109-7e91-4fb0-e482-6d149eb941ef"
      },
      "execution_count": 3,
      "outputs": [
        {
          "output_type": "stream",
          "name": "stdout",
          "text": [
            "32\n"
          ]
        }
      ]
    },
    {
      "cell_type": "code",
      "source": [
        "x=5; y = 10; z = x+y\n",
        "print(z)"
      ],
      "metadata": {
        "colab": {
          "base_uri": "https://localhost:8080/"
        },
        "id": "B0DheDOM4Tgv",
        "outputId": "e99a680d-82fa-44e1-f991-4adfc329bb64"
      },
      "execution_count": 4,
      "outputs": [
        {
          "output_type": "stream",
          "name": "stdout",
          "text": [
            "15\n"
          ]
        }
      ]
    },
    {
      "cell_type": "code",
      "source": [
        "var1 = 10                 # this is integer\n",
        "var2 = 'Maneesha Veluru'  # this is string\n",
        "var3 = 10.547             # this is float\n",
        "print(var1)\n",
        "print(type(var1))\n",
        "print(var2)\n",
        "print(type(var2))\n",
        "print(var3)\n",
        "print(type(var3))"
      ],
      "metadata": {
        "colab": {
          "base_uri": "https://localhost:8080/"
        },
        "id": "OkDO0lJw4V8Z",
        "outputId": "a48c025d-0d44-4d1e-a0dc-c0b5ec4ed7a0"
      },
      "execution_count": 5,
      "outputs": [
        {
          "output_type": "stream",
          "name": "stdout",
          "text": [
            "10\n",
            "<class 'int'>\n",
            "Maneesha Veluru\n",
            "<class 'str'>\n",
            "10.547\n",
            "<class 'float'>\n"
          ]
        }
      ]
    },
    {
      "cell_type": "code",
      "source": [
        "# b = 5\n",
        "a = c\n",
        "print(a)"
      ],
      "metadata": {
        "colab": {
          "base_uri": "https://localhost:8080/",
          "height": 182
        },
        "id": "qQdXoOYK4e8y",
        "outputId": "f7992a25-716f-400f-aa47-203a0fa20b57"
      },
      "execution_count": 6,
      "outputs": [
        {
          "output_type": "error",
          "ename": "NameError",
          "evalue": "name 'c' is not defined",
          "traceback": [
            "\u001b[0;31m---------------------------------------------------------------------------\u001b[0m",
            "\u001b[0;31mNameError\u001b[0m                                 Traceback (most recent call last)",
            "\u001b[0;32m<ipython-input-6-57fc11e6671f>\u001b[0m in \u001b[0;36m<cell line: 0>\u001b[0;34m()\u001b[0m\n\u001b[1;32m      1\u001b[0m \u001b[0;31m# b = 5\u001b[0m\u001b[0;34m\u001b[0m\u001b[0;34m\u001b[0m\u001b[0m\n\u001b[0;32m----> 2\u001b[0;31m \u001b[0ma\u001b[0m \u001b[0;34m=\u001b[0m \u001b[0mc\u001b[0m\u001b[0;34m\u001b[0m\u001b[0;34m\u001b[0m\u001b[0m\n\u001b[0m\u001b[1;32m      3\u001b[0m \u001b[0mprint\u001b[0m\u001b[0;34m(\u001b[0m\u001b[0ma\u001b[0m\u001b[0;34m)\u001b[0m\u001b[0;34m\u001b[0m\u001b[0;34m\u001b[0m\u001b[0m\n",
            "\u001b[0;31mNameError\u001b[0m: name 'c' is not defined"
          ]
        }
      ]
    },
    {
      "cell_type": "code",
      "source": [
        "age = 32\n",
        "height = 6.1\n",
        "name = \"Maneesha\"\n",
        "is_student = True\n",
        "print(\"age :\",age)\n",
        "print(\"Height :\",height)\n",
        "print(\"Name :\",name)"
      ],
      "metadata": {
        "colab": {
          "base_uri": "https://localhost:8080/"
        },
        "id": "czjDOr-n4j8v",
        "outputId": "bdcd8ab5-9b25-4904-f12b-a950d8d7fe60"
      },
      "execution_count": 7,
      "outputs": [
        {
          "output_type": "stream",
          "name": "stdout",
          "text": [
            "age : 32\n",
            "Height : 6.1\n",
            "Name : Maneesha\n"
          ]
        }
      ]
    },
    {
      "cell_type": "code",
      "source": [
        "print('python is a good language')"
      ],
      "metadata": {
        "colab": {
          "base_uri": "https://localhost:8080/"
        },
        "id": "Evny6NA84xA6",
        "outputId": "fc3f274c-e133-4d85-9741-5a88a7ec3255"
      },
      "execution_count": 8,
      "outputs": [
        {
          "output_type": "stream",
          "name": "stdout",
          "text": [
            "python is a good language\n"
          ]
        }
      ]
    },
    {
      "cell_type": "code",
      "source": [
        "num1 = float(input(\"Enter a number: \"))\n",
        "num2 = float(input(\"Enter a number: \"))\n",
        "\n",
        "sum = num1 + num2\n",
        "diff = num1 - num2\n",
        "multi = num1 * num2\n",
        "div = num1 / num2\n",
        "exp = num1 ** 2\n",
        "floor_division = num1 // num2\n",
        "modulus = num1 % num2\n",
        "\n",
        "print(\"Sum =\", sum)\n",
        "print(\"Difference =\", diff)\n",
        "print(\"Multiplication =\", multi)\n",
        "print(\"Division =\", div)\n",
        "print(\"Exponential =\", exp)\n",
        "print(\"Floor Division =\", floor_division)\n",
        "print(\"Modulus =\", modulus)\n",
        "print(num1 == num2)"
      ],
      "metadata": {
        "colab": {
          "base_uri": "https://localhost:8080/"
        },
        "id": "PooOLaQtQYOg",
        "outputId": "a7168e6d-74ef-42fd-cc10-be2008300f1b"
      },
      "execution_count": 9,
      "outputs": [
        {
          "output_type": "stream",
          "name": "stdout",
          "text": [
            "Enter a number: 2.45\n",
            "Enter a number: 3.78\n",
            "Sum = 6.23\n",
            "Difference = -1.3299999999999996\n",
            "Multiplication = 9.261000000000001\n",
            "Division = 0.6481481481481483\n",
            "Exponential = 6.002500000000001\n",
            "Floor Division = 0.0\n",
            "Modulus = 2.45\n",
            "False\n"
          ]
        }
      ]
    },
    {
      "cell_type": "code",
      "execution_count": 10,
      "metadata": {
        "id": "QROAtYkkO50d"
      },
      "outputs": [],
      "source": [
        "# Data Types\n",
        "# Lists\n",
        "# Tuples\n",
        "# Sets\n",
        "# Dictionaries"
      ]
    }
  ]
}